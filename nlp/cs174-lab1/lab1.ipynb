{
 "cells": [
  {
   "cell_type": "markdown",
   "metadata": {},
   "source": [
    "# Problem Set 1 CS174\n",
    "---\n",
    "The following problem set will focus on the lessons on Python and basic string manipulation. Answer the following guide questions by writing functions or code in cells that accomplish the requirements.\n",
    "\n",
    "1. Write a function to check whether a string is a palindrome. (A palindrome is a string that reads the same forwards and backwards) **1 pt.**\n",
    "\n",
    "2. Write a function that checks whether a number is prime or not **1 pt.**\n",
    "\n",
    "3. Load `data/allstar.txt` and create a dictionary where the keys are the verses or chorus numbers, and the values are the chords for that part of the song. **4 pts.**\n",
    "`{ \"verse1\": \"Am, C, D, G, F, G, G, Bm\", \"chorus1\": \"C, Am, G, D, C, Am, G, D, C\"..}`\n",
    "\n",
    "4. Build a dictionary from `data/allstar.txt` where the keys are the unique words, and the values are the number of times the word appeared in the song. **4 pts.**\n",
    "\n",
    "5. Load `Rick Astley - Never Gonna Give You Up Lyrics _ AZLyrics.com.html` and find out the ff (show the code): **10 pts.**\n",
    "       - How many unique words are there?\n",
    "       - List what will Rick Astley never do?\n",
    "       - Write a function that lists all the unique words and counts the num of occurences. Output the result as a dictionary similar to **Item 4.**\n",
    "       - Use the dictionary from above to create a word count histogram.\n",
    "       \n",
    "### Bonus:\n",
    "Compare any non-English song (as long as lyrics are Romanized ) and a contemporary one in English, and create word frequency histograms of both. Compare and discuss any interesting findings or insights. **5 pts.**"
   ]
  },
  {
   "cell_type": "markdown",
   "metadata": {},
   "source": [
    "Deadline **Feb 4 11:59PM**. Submission link to be posted in Moodle. \n",
    "Submit the .ipynb file only with name <SURNAME>_<ID NUMBER>.ipynb. \n",
    "    \n",
    "Sample: **\"BAUTISTA_110464.ipynb\"**"
   ]
  },
  {
   "cell_type": "code",
   "execution_count": 2,
   "metadata": {},
   "outputs": [
    {
     "data": {
      "text/plain": [
       "True"
      ]
     },
     "execution_count": 2,
     "metadata": {},
     "output_type": "execute_result"
    }
   ],
   "source": [
    "# 1\n",
    "def is_palindrome(word):\n",
    "    reverse = word[::-1]\n",
    "    if word == reverse:\n",
    "        return True\n",
    "    else:\n",
    "        return False\n",
    "    \n",
    "x = \"racecar\"\n",
    "is_palindrome(x)\n",
    "            "
   ]
  },
  {
   "cell_type": "code",
   "execution_count": 3,
   "metadata": {},
   "outputs": [
    {
     "data": {
      "text/plain": [
       "False"
      ]
     },
     "execution_count": 3,
     "metadata": {},
     "output_type": "execute_result"
    }
   ],
   "source": [
    "# 2\n",
    "def is_prime(num):\n",
    "    for i in range(2,num-1):\n",
    "        if num % i == 0:\n",
    "            return False\n",
    "    return True\n",
    "\n",
    "is_prime(1001)"
   ]
  },
  {
   "cell_type": "code",
   "execution_count": 4,
   "metadata": {},
   "outputs": [
    {
     "name": "stdout",
     "output_type": "stream",
     "text": [
      "['Verse 1', 'Chorus', 'Verse 1', 'Chorus', 'Verse 3', 'Chorus'] \n",
      "\n",
      "[['G', 'D', 'Am', 'C', 'G', 'D', 'Am', 'C', 'G', 'D', 'Am', 'C', 'G', 'D', 'Am', 'C', 'G', 'D', 'Am', 'C', 'G', 'D', 'Am', 'C', 'G', 'D', 'Am', 'C', 'G', 'D', 'Am', 'C'], ['G', 'C', 'C#m', 'C', 'G', 'C', 'C#m', 'C', 'G', 'C', 'C#m', 'C', 'G', 'F', 'C'], ['G', 'D', 'Am', 'C', 'G', 'D', 'Am', 'C', 'G', 'D', 'Am', 'C', 'G', 'D', 'Am', 'C'], ['G', 'C', 'C#m', 'C', 'G', 'C', 'C#m', 'C', 'G', 'C', 'C#m', 'C', 'G', 'F', 'C', 'G', 'C', 'C#m', 'C', 'G', 'C', 'C#m', 'C', 'G', 'C', 'C#m', 'C', 'G', 'F', 'C'], ['G', 'D', 'Am', 'C', 'G', 'D', 'Am', 'C', 'G', 'D', 'Am', 'C', 'G', 'D', 'Am', 'C', 'G', 'D', 'Am', 'C', 'G', 'D', 'Am', 'C', 'G', 'D', 'Am', 'C', 'G', 'D', 'Am', 'C']] \n",
      "\n",
      "{'Verse 1': ['G', 'D', 'Am', 'C', 'G', 'D', 'Am', 'C', 'G', 'D', 'Am', 'C', 'G', 'D', 'Am', 'C', 'G', 'D', 'Am', 'C', 'G', 'D', 'Am', 'C', 'G', 'D', 'Am', 'C', 'G', 'D', 'Am', 'C'], 'Chorus': ['G', 'D', 'Am', 'C', 'G', 'D', 'Am', 'C', 'G', 'D', 'Am', 'C', 'G', 'D', 'Am', 'C', 'G', 'D', 'Am', 'C', 'G', 'D', 'Am', 'C', 'G', 'D', 'Am', 'C', 'G', 'D', 'Am', 'C'], 'Verse 3': ['G', 'D', 'Am', 'C', 'G', 'D', 'Am', 'C', 'G', 'D', 'Am', 'C', 'G', 'D', 'Am', 'C', 'G', 'D', 'Am', 'C', 'G', 'D', 'Am', 'C', 'G', 'D', 'Am', 'C', 'G', 'D', 'Am', 'C']}\n"
     ]
    }
   ],
   "source": [
    "# 3\n",
    "common_chords = ['C','Cm','C#m','C#','Db','Dbm','D','Dm',\n",
    "                 'Eb','Ebm','E','Em','F','Fm','F#','F#m',\n",
    "                 'G','Gm','G#','G#m','A','Am','Bb','Bbm','B','Bm']\n",
    "\n",
    "with open('allstar.txt','r') as textFile:\n",
    "    songPart = []\n",
    "    chordsPerPart = []\n",
    "    chords = []\n",
    "    for line in textFile:\n",
    "        if line[0] != \"[\":\n",
    "            for i in line.split():\n",
    "                if i in common_chords:\n",
    "                    chords.append(i)\n",
    "        else:\n",
    "            songPart.append(line.strip('\\n'))\n",
    "            chordsPerPart.append(chords)\n",
    "            chords = []\n",
    "    chordsPerPart.pop(0)\n",
    "\n",
    "songPart = [part.strip(\"[]\") for part in songPart]\n",
    "#partChordsDict = dict(zip(songPart,chordsPerPart))\n",
    "partChordsDict = {}\n",
    "for key in songPart: \n",
    "    for value in chordsPerPart: \n",
    "        partChordsDict[key] = value \n",
    "        #chordsPerPart.remove(value) \n",
    "        break \n",
    "    \n",
    "    \n",
    "print(songPart,\"\\n\")\n",
    "print(chordsPerPart,\"\\n\")\n",
    "print(partChordsDict)\n"
   ]
  },
  {
   "cell_type": "code",
   "execution_count": 5,
   "metadata": {},
   "outputs": [
    {
     "name": "stdout",
     "output_type": "stream",
     "text": [
      "Complete number of words:  427\n",
      "Number of unique words:  153 \n",
      "\n",
      "{'somebody': 2, 'once': 2, 'told': 1, 'me': 2, 'the': 26, 'world': 1, 'is': 6, 'gonna': 1, 'roll': 1, 'i': 8, \"ain't\": 1, 'sharpest': 1, 'tool': 1, 'in': 3, 'shed': 1, 'she': 1, 'was': 1, 'looking': 1, 'kinda': 1, 'dumb': 3, 'with': 3, 'her': 3, 'finger': 1, 'and': 12, 'thumb': 1, 'shape': 1, 'of': 1, 'an': 5, '\"l\"': 1, 'on': 6, 'forehead': 1, 'well': 3, 'years': 2, 'start': 2, 'coming': 4, 'they': 3, \"don't\": 6, 'stop': 2, 'back': 4, 'to': 10, 'rules': 2, 'hit': 2, 'ground': 2, 'running': 2, \"didn't\": 2, 'make': 2, 'sense': 2, 'not': 2, 'live': 2, 'for': 3, 'fun': 2, 'your': 8, 'brain': 2, 'gets': 5, 'smart': 2, 'but': 4, 'head': 2, 'so': 7, 'much': 4, 'do': 2, 'see': 2, \"what's\": 2, 'wrong': 2, 'taking': 2, 'streets': 2, \"you'll\": 4, 'never': 5, 'know': 2, 'if': 4, 'you': 7, 'go': 6, 'shine': 2, 'glow': 2, 'hey': 8, 'now': 9, \"you're\": 9, 'all': 9, 'star': 8, 'get': 15, 'game': 4, 'on,': 4, 'play': 4, 'a': 8, 'rock': 4, 'show': 4, 'paid': 4, 'that': 4, 'glitters': 4, 'gold': 4, 'only': 4, 'shooting': 4, 'stars': 4, 'break': 4, 'mold': 4, \"it's\": 1, 'cool': 1, 'place': 2, 'say': 1, 'it': 2, 'colder': 1, 'bundled': 1, 'up': 1, 'wait': 1, \"'til\": 1, 'older': 1, 'media': 1, 'men': 1, 'beg': 1, 'differ': 1, 'judging': 1, 'by': 1, 'hole': 1, 'satellite': 1, 'picture': 1, 'ice': 1, 'we': 2, 'skate': 1, 'getting': 2, 'pretty': 1, 'thin': 1, 'waters': 1, 'warm': 1, 'might': 1, 'as': 1, 'swim': 1, 'my': 1, \"world's\": 1, 'fire': 1, 'how': 1, 'about': 1, 'yours': 1, \"that's\": 1, 'way': 1, 'like': 1, 'bored': 1, 'asked,': 1, 'could': 3, 'spare': 1, 'some': 1, 'change': 2, 'gas': 1, 'need': 1, 'myself': 2, 'away': 1, 'from': 1, 'this': 1, 'said': 1, 'yep': 1, 'what': 1, 'concept': 1, 'use': 2, 'little': 2, 'fuel': 1}\n"
     ]
    }
   ],
   "source": [
    "#4\n",
    "from collections import Counter\n",
    "\n",
    "common_chords = ['C','Cm','C#m','C#','Db','Dbm','D','Dm',\n",
    "                 'Eb','Ebm','E','Em','F','Fm','F#','F#m',\n",
    "                 'G','Gm','G#','G#m','A','Am','Bb','Bbm','B','Bm']\n",
    "words = []\n",
    "wordCount = {}\n",
    "\n",
    "with open('allstar.txt') as textFile:\n",
    "    for line in textFile:\n",
    "        if line[0] != \"[\":\n",
    "            for chord in common_chords:\n",
    "                if chord in line.split():\n",
    "                    line = \"\"\n",
    "            words.extend(line.lower().split())\n",
    "        \n",
    "for word in words:\n",
    "    wordCount[word] = Counter(words)[word]\n",
    "\n",
    "print(\"Complete number of words: \", len(words))\n",
    "print(\"Number of unique words: \", len(wordCount),\"\\n\")\n",
    "print(wordCount)"
   ]
  },
  {
   "cell_type": "code",
   "execution_count": 6,
   "metadata": {},
   "outputs": [
    {
     "name": "stdout",
     "output_type": "stream",
     "text": [
      "Complete number of words:  368\n",
      "Number of unique words:  78 \n",
      "\n",
      "What Rick Astley will never do to you:  {'Never gonna make you cry', 'Never gonna run around and desert you', 'Never gonna give, never gonna give', 'Never gonna tell a lie and hurt you', 'Never gonna give you up', 'Never gonna let you down', 'Never gonna say goodbye'} \n",
      "\n",
      "{\"we're\": 3, 'no': 1, 'strangers': 1, 'to': 4, 'love': 1, 'you': 41, 'know': 5, 'the': 3, 'rules': 1, 'and': 16, 'so': 3, 'do': 1, 'i': 3, 'a': 7, 'full': 1, \"commitment's\": 1, 'what': 1, \"i'm\": 4, 'thinking': 1, 'of': 1, \"wouldn't\": 1, 'get': 1, 'this': 1, 'from': 1, 'any': 1, 'other': 3, 'guy': 1, 'just': 2, 'wanna': 2, 'tell': 9, 'how': 3, 'feeling': 3, 'gotta': 2, 'make': 8, 'understand': 2, 'never': 40, 'gonna': 42, 'give': 10, 'up': 6, 'let': 6, 'down': 6, 'run': 6, 'around': 6, 'desert': 6, 'cry': 6, 'say': 8, 'goodbye': 6, 'lie': 6, 'hurt': 6, \"we've\": 2, 'known': 2, 'each': 2, 'for': 2, 'long': 2, 'your': 2, \"heart's\": 2, 'been': 4, 'aching': 0, 'but': 2, \"you're\": 3, 'too': 3, 'shy': 2, 'it': 4, 'inside': 0, 'we': 4, 'both': 2, \"what's\": 2, 'going': 2, 'on': 2, 'game': 2, 'play': 2, 'if': 1, 'ask': 1, 'me': 2, \"don't\": 1, 'blind': 1, 'see': 1, 'ooh': 0}\n"
     ]
    }
   ],
   "source": [
    "#5\n",
    "from bs4 import BeautifulSoup\n",
    "from collections import Counter\n",
    "\n",
    "lyrics = []\n",
    "wordCount = {}\n",
    "\n",
    "with open('Rick Astley - Never Gonna Give You Up Lyrics _ AZLyrics.com.html','r') as htmlfile:\n",
    "    soup = BeautifulSoup(htmlfile, 'html.parser')\n",
    "    html = soup.prettify()\n",
    "    \n",
    "    # Populates list with every word in the lyrics\n",
    "    for div in soup.findAll('div', attrs = {'class': None}):\n",
    "        lyrics.extend(div.text.lower().strip().split())\n",
    "    \n",
    "    # Prepare creation of 'never gonna' list\n",
    "    neverGonna = []\n",
    "    for div in soup.findAll('div', attrs = {'class': None}):\n",
    "        neverGonna.extend(div.text.strip().split('\\n'))\n",
    "\n",
    "# Creates list of what Rick Astley will never do\n",
    "datPhrase = 'Never gonna '\n",
    "neverGonna = [phrase for phrase in neverGonna if datPhrase in phrase]\n",
    "neverGonna.remove('Never gonna give, never gonna give') # Exception to the rule\n",
    "\n",
    "# Counts the frequency of each unique word\n",
    "for word in lyrics:\n",
    "    word = word.replace('(', '').replace(')', '').replace(',', '') # Cleans each word\n",
    "    wordCount[word] = Counter(lyrics)[word]\n",
    "\n",
    "#print(lyrics)\n",
    "print(\"Complete number of words: \", len(lyrics))\n",
    "print(\"Number of unique words: \", len(wordCount),\"\\n\")\n",
    "print(\"What Rick Astley will never do to you: \", set(neverGonna),'\\n')\n",
    "print(wordCount)"
   ]
  },
  {
   "cell_type": "code",
   "execution_count": 7,
   "metadata": {},
   "outputs": [
    {
     "data": {
      "text/plain": [
       "<BarContainer object of 78 artists>"
      ]
     },
     "execution_count": 7,
     "metadata": {},
     "output_type": "execute_result"
    },
    {
     "data": {
      "image/png": "[encoded data removed]",
      "text/plain": [
       "<Figure size 1296x360 with 1 Axes>"
      ]
     },
     "metadata": {},
     "output_type": "display_data"
    }
   ],
   "source": [
    "#5 histogram\n",
    "import matplotlib.pyplot as plt\n",
    "import seaborn as sns\n",
    "\n",
    "sns.set()\n",
    "f, ax = plt.subplots(figsize=(18,5)) # Set figure size\n",
    "plt.title('Word frequency in Rick Astley\\'s Never Gonna Give You Up')\n",
    "plt.xticks(rotation='vertical')\n",
    "plt.bar(wordCount.keys(), wordCount.values(), color='b')"
   ]
  },
  {
   "cell_type": "code",
   "execution_count": null,
   "metadata": {},
   "outputs": [],
   "source": []
  },
  {
   "cell_type": "code",
   "execution_count": null,
   "metadata": {},
   "outputs": [],
   "source": []
  }
 ],
 "metadata": {
  "kernelspec": {
   "display_name": "Python 3",
   "language": "python",
   "name": "python3"
  },
  "language_info": {
   "codemirror_mode": {
    "name": "ipython",
    "version": 3
   },
   "file_extension": ".py",
   "mimetype": "text/x-python",
   "name": "python",
   "nbconvert_exporter": "python",
   "pygments_lexer": "ipython3",
   "version": "3.7.3"
  }
 },
 "nbformat": 4,
 "nbformat_minor": 4
}
