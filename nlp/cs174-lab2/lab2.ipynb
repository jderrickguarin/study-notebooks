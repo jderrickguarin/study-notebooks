{
 "cells": [
  {
   "cell_type": "markdown",
   "metadata": {},
   "source": [
    "# Problem Set 2 CS174\n",
    "---\n",
    "The following problem set will focus on the lessons on Numpy and advanced Python functions. Answer the following guide questions by writing functions or code in cells that accomplish the requirements.\n",
    "\n",
    "1. Create a function that takes in 3 parameters (integer n, integer a, integer b), and generates an nxn numpy matrix with random values from the range a to b inclusive. **2 pts.**\n",
    "\n",
    "2. Present a count plot of the top 20 occurring words in **data/networks.txt**. Use the stopword file **data/stop.txt** to filter out the stopwords **2 pts.**\n",
    "\n",
    "3. Using **data/ateneo.txt** and **data/tl-en.txt**, convert the phrases into straight english phrases. Leave words with no translation be. **6 pts.**\n",
    "\n",
    "4. Using **data/tl-en.txt**, create a one-to-one English to Filipino translation of your favorite English song. Develop functions to handle pluralities, and multiple entry results. Discuss your code and please put at least 1-liner docs for the functions. **10 pts.**\n",
    "       \n",
    "### Bonus:\n",
    "Repeat #4 but do a Filipino to English translation of your favorite Filipno song. Same specs apply. **5 pts.**"
   ]
  },
  {
   "cell_type": "markdown",
   "metadata": {},
   "source": [
    "Deadline **Feb 20 11:59PM**. Submission link to be posted in Moodle. \n",
    "Submit the .ipynb file only with name <SURNAME>_<ID NUMBER>.ipynb. \n",
    "    \n",
    "Sample: **\"BAUTISTA_110464.ipynb\"**"
   ]
  },
  {
   "cell_type": "code",
   "execution_count": 27,
   "metadata": {},
   "outputs": [
    {
     "name": "stdout",
     "output_type": "stream",
     "text": [
      "[[13 11  5]\n",
      " [ 7 15 12]\n",
      " [17  1  4]]\n"
     ]
    }
   ],
   "source": [
    "#1\n",
    "\n",
    "import numpy as np\n",
    "\n",
    "def generate_matrix(a, b, n):\n",
    "    return np.random.randint(a, b, size=(n,n))\n",
    "    \n",
    "print(generate_matrix(1,20,3))\n",
    "\n"
   ]
  },
  {
   "cell_type": "code",
   "execution_count": 3,
   "metadata": {},
   "outputs": [
    {
     "name": "stdout",
     "output_type": "stream",
     "text": [
      "[('to', 56), ('the', 26), ('network', 17), ('networks', 13), ('users', 10), ('a', 10), ('computers', 8), ('going', 7), ('file', 7), ('problems', 7), ('never', 6), ('time', 6), ('you', 6), ('This', 6), ('companies', 6), ('system', 6), ('access', 6), ('files', 6), ('also', 6), ('is', 6)]\n"
     ]
    },
    {
     "data": {
      "text/plain": [
       "<BarContainer object of 20 artists>"
      ]
     },
     "execution_count": 3,
     "metadata": {},
     "output_type": "execute_result"
    },
    {
     "data": {
      "image/png": "[encoded data removed]",
      "text/plain": [
       "<Figure size 720x360 with 1 Axes>"
      ]
     },
     "metadata": {},
     "output_type": "display_data"
    }
   ],
   "source": [
    "#2\n",
    "\n",
    "import matplotlib.pyplot as plt\n",
    "import seaborn as sns\n",
    "from collections import Counter\n",
    "\n",
    "networks = open('data/networks.txt', 'r')\n",
    "stopwords = open('data/stop.txt', 'r')\n",
    "\n",
    "nw_words = []\n",
    "\n",
    "sw_words = [line.strip('\\n\\'\\',')for line in stopwords]\n",
    "    \n",
    "#print(sw_words)\n",
    "\n",
    "for line in networks:\n",
    "    nw_words.extend(line.split())\n",
    "\n",
    "for word in nw_words:\n",
    "    if word in sw_words:\n",
    "        nw_words.remove(word)\n",
    "\n",
    "#print(nw_words)\n",
    "        \n",
    "final = [word.strip('.,') for word in nw_words]\n",
    "        \n",
    "#print(final)\n",
    "\n",
    "wordCount = dict(Counter(final).most_common(20))\n",
    "print(Counter(final).most_common(20))\n",
    "\n",
    "sns.set()\n",
    "plt.subplots(figsize=(10,5)) # Set figure size\n",
    "plt.title('20 Most Common Words')\n",
    "plt.xticks(rotation='vertical')\n",
    "plt.bar(wordCount.keys(), wordCount.values(), color='b')"
   ]
  },
  {
   "cell_type": "code",
   "execution_count": 26,
   "metadata": {},
   "outputs": [
    {
     "name": "stdout",
     "output_type": "stream",
     "text": [
      "\"Manong, to only d'yan sa have side.\"\n",
      "\"Mej hassle naman this rain.\"\n",
      "what bro Katip later? G?\"\n",
      "wait I'm like gonna dinner only with the fambam.\"\n",
      "\"Which car am I gonna take today so\n",
      "\"Don't make stitch sa fishball first it's not cuisine yet.\"\n",
      "brother much po yung neon balls?\"\n",
      "\"Pweds ka ba later?\"\n",
      "\"Ugh, there's no parking space pa. Eh, I'm late na nga\n",
      "\"It's like super intense really As in extreme\n",
      "\"I'll make goodbye pa. You know naman my dad is strict, eh.\"\n",
      "\"You're, like so duration ha.\"\n",
      "\"Make it fast only ha?\"\n",
      "\"What's wrong with being conyo ba?\"\n"
     ]
    }
   ],
   "source": [
    "#3\n",
    "\n",
    "tl_en = open('data/tl-en.txt', encoding=\"utf8\")\n",
    "conyo = open('data/ateneo.txt')\n",
    "\n",
    "tl_en_dict = {}\n",
    "\n",
    "for line in tl_en:\n",
    "    ls = line.split()\n",
    "    tl_en_dict[ls[0]] = ls[1]\n",
    "\n",
    "#print(tl_en_dict)\n",
    "\n",
    "for line in conyo:\n",
    "    ls = line.split()\n",
    "    new_ls = []\n",
    "    for i in ls:\n",
    "        bare = i.lower().strip('\".,?')\n",
    "        if bare in tl_en_dict:\n",
    "            new_ls.append(tl_en_dict[bare])\n",
    "        else:\n",
    "            new_ls.append(i)\n",
    "    print(\" \".join(new_ls))\n",
    "    \n"
   ]
  },
  {
   "cell_type": "code",
   "execution_count": 54,
   "metadata": {},
   "outputs": [
    {
     "name": "stdout",
     "output_type": "stream",
     "text": [
      "\n",
      "\n",
      "maputi shirt ngayon red, aking duguan ilong\n",
      "sleeping, ikaw noong iyong tippy toes\n",
      "gumagapang paligid gustuhin wala one knows\n",
      "isipin ikaw kaya kriminal\n",
      "\n",
      "pasa noong pareho aking tuhod para ikaw\n",
      "don't say pasalamatan ikaw o please, ako gawa\n",
      "anung ako gustong kailan i'm kulang kay\n",
      "aking soul? kaya cynical\n",
      "\n",
      "kaya ikaw a matigas guy\n",
      "like-it-really-rough guy\n",
      "just-can't-get-enough guy\n",
      "chest-always-so-puffed guy\n",
      "i'm yan bad type\n",
      "make-your-mama-sad type\n",
      "make-your-girlfriend-mad type\n",
      "might-seduce-your-dad type\n",
      "i'm yung bad guy, duh\n",
      "\n",
      "i'm yung bad guy\n",
      "\n",
      "ako gustuhin it kailan ikaw kumuha kontrolin\n",
      "kahit kung ikaw alam yan ikaw don't\n",
      "sariling me, i'll let ikaw makipaglaro yung tungkulin\n",
      "i'll magiging iyong animal\n",
      "\n",
      "aking mommy likes kay kumanta along\n",
      "kay me pero she won't kumanta nito kanta\n",
      "kung she nagbabasa puro yung lyrics\n",
      "she'll naawa yung kalalakihan ako alam\n",
      "\n",
      "kaya ikaw a matigas guy\n",
      "like-it-really-rough guy\n",
      "just-can't-get-enough guy\n",
      "chest-always-so-puffed guy\n",
      "i'm yan bad type\n",
      "make-your-mama-sad type\n",
      "make-your-girlfriend-mad type\n",
      "might-seduce-your-dad type\n",
      "i'm yung bad guy, duh\n",
      "\n",
      "i'm yung bad guy, duh\n",
      "\n",
      "i'm lang mabait at pagiging bad\n",
      "bad\n",
      "\n",
      "ako gustuhin kailan ikaw kunin galit\n",
      "ako hulaan i'm pretty natutuwa\n",
      "yan ikaw magisa\n",
      "ikaw sabi she's natatakot of me?\n",
      "ako mean\n",
      "ako don't makakita anung she nakakakita\n",
      "pero siguro it's 'cause i'm suot iyong cologne\n",
      "\n",
      "i'm a bad guy\n",
      "i'm, i'm a bad guy\n",
      "bad guy, bad guy\n",
      "i'm a bad guy\n",
      "\n"
     ]
    }
   ],
   "source": [
    "#4\n",
    "\n",
    "from bs4 import BeautifulSoup\n",
    "import requests\n",
    "\n",
    "# Prepares data from the website\n",
    "URL = 'https://www.azlyrics.com/lyrics/billieeilish/badguy.html'\n",
    "page = requests.get(URL)\n",
    "soup = BeautifulSoup(page.content, 'html.parser')\n",
    "\n",
    "tl_en = open('data/tl-en.txt', encoding=\"utf8\")\n",
    "tl_en_dict = {}\n",
    "\n",
    "# Creates a English-Tagalog dictionary from text\n",
    "for line in tl_en:\n",
    "    ls = line.split()\n",
    "    tl_en_dict[ls[1]] = ls[0]\n",
    "    \n",
    "# Parses webpage and collects necessary data\n",
    "lyrics = []\n",
    "for div in soup.findAll('div', attrs = {'class': None}):\n",
    "    lyrics.extend(div.text.lower().strip(',!?-.\\'\\'').split('\\n'))\n",
    "\n",
    "lyrics = [line.split() for line in lyrics]\n",
    "\n",
    "# Translates parsed text based on the dictionary\n",
    "translated_lyrics = []\n",
    "for line in lyrics:\n",
    "    new_line = []\n",
    "    for word in line:\n",
    "        if word.strip() in tl_en_dict:\n",
    "            new_line.append(tl_en_dict[word])\n",
    "        else:\n",
    "            new_line.append(word)\n",
    "    translated_lyrics.append(new_line)\n",
    "\n",
    "#print(lyrics)\n",
    "#print(translated_lyrics)\n",
    "final = [' '.join(line) for line in translated_lyrics]\n",
    "\n",
    "for line in final:\n",
    "    print(line)"
   ]
  },
  {
   "cell_type": "code",
   "execution_count": 55,
   "metadata": {},
   "outputs": [
    {
     "name": "stdout",
     "output_type": "stream",
     "text": [
      "\n",
      "\n",
      "trends pa ba ang serenade\n",
      "possibly you're ay wonder\n",
      "who ba 'tong looks gago\n",
      "nagkandarapa sa singing\n",
      "at nasisintunado sa kaba\n",
      "fitted more carrying the roses\n",
      "wearing nama'y denim na faded\n",
      "at nariyan pa ang barkada\n",
      "naka-porma naka-barong\n",
      "sa gregorian defeats pa ang minus one\n",
      "at sing-along\n",
      "\n",
      "trees ang heaven ng star\n",
      "at with cold pa ng air\n",
      "sa 'yong think ako'y crazy graces\n",
      "at sa song kong this\n",
      "sana'y maibigan mo\n",
      "ibubuhos ko ang whole heartless ko\n",
      "sa isang munting serenade\n",
      "for sa'yo\n",
      "\n",
      "di ba like isang sine\n",
      "isang pelikulang romantic\n",
      "di ba't you're ang bidang actress\n",
      "at i ang 'yong leading man\n",
      "sa istoryang huddle\n",
      "sa pag-ibig na sincerely\n",
      "\n",
      "trees ang heaven ng star\n",
      "at with cold pa ng air\n",
      "sa 'yong think ako'y crazy graces\n",
      "at sa song kong this\n",
      "sana'y maibigan mo\n",
      "ibubuhos ko ang whole heartless ko\n",
      "sa isang munting serenade\n",
      "for sa 'yo\n",
      "\n"
     ]
    }
   ],
   "source": [
    "# Bonus (Tagalog to English)\n",
    "\n",
    "from bs4 import BeautifulSoup\n",
    "import requests\n",
    "\n",
    "# Prepares data from the website\n",
    "URL = 'https://www.azlyrics.com/lyrics/parokyaniedgar/harana.html'\n",
    "page = requests.get(URL)\n",
    "soup = BeautifulSoup(page.content, 'html.parser')\n",
    "\n",
    "tl_en = open('data/tl-en.txt', encoding=\"utf8\")\n",
    "tl_en_dict = {}\n",
    "\n",
    "# Creates a English-Tagalog dictionary from text\n",
    "for line in tl_en:\n",
    "    ls = line.split()\n",
    "    tl_en_dict[ls[0]] = ls[1]\n",
    "\n",
    "# Parses webpage and collects necessary data\n",
    "lyrics = []\n",
    "for div in soup.findAll('div', attrs = {'class': None}):\n",
    "    lyrics.extend(div.text.lower().strip(',!?-.\\'\\'').split('\\n'))\n",
    "\n",
    "lyrics = [line.split() for line in lyrics]\n",
    "\n",
    "# Translates parsed text based on the dictionary\n",
    "translated_lyrics = []\n",
    "for line in lyrics:\n",
    "    new_line = []\n",
    "    for word in line:\n",
    "        if word.strip() in tl_en_dict:\n",
    "            new_line.append(tl_en_dict[word])\n",
    "        else:\n",
    "            new_line.append(word)\n",
    "    translated_lyrics.append(new_line)\n",
    "\n",
    "#print(lyrics)\n",
    "#print(translated_lyrics)\n",
    "final = [' '.join(line) for line in translated_lyrics]\n",
    "\n",
    "for line in final:\n",
    "    print(line)"
   ]
  },
  {
   "cell_type": "code",
   "execution_count": null,
   "metadata": {},
   "outputs": [],
   "source": []
  }
 ],
 "metadata": {
  "kernelspec": {
   "display_name": "Python 3",
   "language": "python",
   "name": "python3"
  },
  "language_info": {
   "codemirror_mode": {
    "name": "ipython",
    "version": 3
   },
   "file_extension": ".py",
   "mimetype": "text/x-python",
   "name": "python",
   "nbconvert_exporter": "python",
   "pygments_lexer": "ipython3",
   "version": "3.7.3"
  }
 },
 "nbformat": 4,
 "nbformat_minor": 4
}
