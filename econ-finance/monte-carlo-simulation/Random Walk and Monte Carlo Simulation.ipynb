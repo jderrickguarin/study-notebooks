{
 "cells": [
  {
   "cell_type": "code",
   "execution_count": 2,
   "metadata": {},
   "outputs": [],
   "source": [
    "import random\n",
    "\n",
    "def random_walk(n):\n",
    "    x = 0\n",
    "    y = 0\n",
    "    for i in range(n):\n",
    "        step = random.choice(['N','S','E','W'])\n",
    "        if step == 'N':\n",
    "            y += 1\n",
    "        elif step == 'S':\n",
    "            y -= 1\n",
    "        elif step == 'E':\n",
    "            x += 1\n",
    "        elif step == 'W':\n",
    "            x -= 1\n",
    "            \n",
    "        return (x,y)\n",
    "        "
   ]
  },
  {
   "cell_type": "code",
   "execution_count": 4,
   "metadata": {},
   "outputs": [
    {
     "name": "stdout",
     "output_type": "stream",
     "text": [
      "(1, 0) Distance from home =  1\n",
      "(0, 1) Distance from home =  1\n",
      "(-1, 0) Distance from home =  1\n",
      "(1, 0) Distance from home =  1\n",
      "(0, 1) Distance from home =  1\n",
      "(0, -1) Distance from home =  1\n",
      "(0, -1) Distance from home =  1\n",
      "(-1, 0) Distance from home =  1\n",
      "(0, -1) Distance from home =  1\n",
      "(-1, 0) Distance from home =  1\n",
      "(0, 1) Distance from home =  1\n",
      "(0, -1) Distance from home =  1\n",
      "(0, -1) Distance from home =  1\n",
      "(0, -1) Distance from home =  1\n",
      "(0, 1) Distance from home =  1\n"
     ]
    }
   ],
   "source": [
    "for i in range(15):\n",
    "    walk = random_walk(10)\n",
    "    print(walk, 'Distance from home = ',\n",
    "          abs(walk[0]) + abs(walk[1]))"
   ]
  },
  {
   "cell_type": "code",
   "execution_count": 5,
   "metadata": {},
   "outputs": [],
   "source": [
    "def random_walk_2(n):\n",
    "    x, y = 0, 0\n",
    "    for i in range(n):\n",
    "        (dx, dy) = random.choice([(0,1), (0,-1), (1,0), (-1,0)])\n",
    "        x += dx\n",
    "        y += dy\n",
    "    return (x,y)"
   ]
  },
  {
   "cell_type": "code",
   "execution_count": 7,
   "metadata": {},
   "outputs": [
    {
     "name": "stdout",
     "output_type": "stream",
     "text": [
      "(-2, 4) Distance from home =  6\n",
      "(-1, -1) Distance from home =  2\n",
      "(2, -2) Distance from home =  4\n",
      "(2, 2) Distance from home =  4\n",
      "(0, 2) Distance from home =  2\n",
      "(0, -2) Distance from home =  2\n",
      "(-3, 1) Distance from home =  4\n",
      "(3, -1) Distance from home =  4\n",
      "(-1, -1) Distance from home =  2\n",
      "(3, -1) Distance from home =  4\n",
      "(-5, 1) Distance from home =  6\n",
      "(1, 3) Distance from home =  4\n",
      "(0, 2) Distance from home =  2\n",
      "(0, 0) Distance from home =  0\n",
      "(3, -5) Distance from home =  8\n"
     ]
    }
   ],
   "source": [
    "for i in range(15):\n",
    "    walk = random_walk_2(10)\n",
    "    print(walk, 'Distance from home = ',\n",
    "          abs(walk[0]) + abs(walk[1]))"
   ]
  },
  {
   "cell_type": "code",
   "execution_count": 12,
   "metadata": {},
   "outputs": [
    {
     "name": "stdout",
     "output_type": "stream",
     "text": [
      "Walk size =  1 / % of no transport =  100.0\n",
      "Walk size =  2 / % of no transport =  100.0\n",
      "Walk size =  3 / % of no transport =  100.0\n",
      "Walk size =  4 / % of no transport =  100.0\n",
      "Walk size =  5 / % of no transport =  87.86\n",
      "Walk size =  6 / % of no transport =  93.74\n",
      "Walk size =  7 / % of no transport =  76.96499999999999\n",
      "Walk size =  8 / % of no transport =  85.765\n",
      "Walk size =  9 / % of no transport =  66.33\n",
      "Walk size =  10 / % of no transport =  79.69500000000001\n",
      "Walk size =  11 / % of no transport =  59.099999999999994\n",
      "Walk size =  12 / % of no transport =  72.485\n",
      "Walk size =  13 / % of no transport =  53.545\n",
      "Walk size =  14 / % of no transport =  67.305\n",
      "Walk size =  15 / % of no transport =  48.685\n",
      "Walk size =  16 / % of no transport =  62.03999999999999\n",
      "Walk size =  17 / % of no transport =  44.71\n",
      "Walk size =  18 / % of no transport =  58.335\n",
      "Walk size =  19 / % of no transport =  41.404999999999994\n",
      "Walk size =  20 / % of no transport =  53.669999999999995\n",
      "Walk size =  21 / % of no transport =  38.224999999999994\n",
      "Walk size =  22 / % of no transport =  50.41\n",
      "Walk size =  23 / % of no transport =  35.735\n",
      "Walk size =  24 / % of no transport =  47.504999999999995\n",
      "Walk size =  25 / % of no transport =  33.855000000000004\n",
      "Walk size =  26 / % of no transport =  45.275\n",
      "Walk size =  27 / % of no transport =  31.34\n",
      "Walk size =  28 / % of no transport =  42.355\n",
      "Walk size =  29 / % of no transport =  29.325000000000003\n",
      "Walk size =  30 / % of no transport =  40.195\n"
     ]
    }
   ],
   "source": [
    "num_of_walks = 20000\n",
    "\n",
    "for walk_length in range(1,31):\n",
    "    no_transport = 0 # Number of walks 4 or fewer blocks from home\n",
    "    for i in range(num_of_walks):\n",
    "        (x,y) = random_walk_2(walk_length)\n",
    "        distance = abs(x) + abs(y)\n",
    "        if distance <= 4:\n",
    "            no_transport += 1\n",
    "    no_transport_pct = float(no_transport) / num_of_walks\n",
    "    print(\"Walk size = \", walk_length,\n",
    "         \"/ % of no transport = \", 100*no_transport_pct)"
   ]
  },
  {
   "cell_type": "code",
   "execution_count": 2,
   "metadata": {},
   "outputs": [
    {
     "data": {
      "image/png": "[encoded data removed]",
      "text/plain": [
       "<Figure size 432x288 with 1 Axes>"
      ]
     },
     "metadata": {
      "needs_background": "light"
     },
     "output_type": "display_data"
    }
   ],
   "source": [
    "# Geometric Brownian Motion plot code from Wikipedia\n",
    "import numpy as np\n",
    "import matplotlib.pyplot as plt\n",
    "\n",
    "mu = 1\n",
    "n = 50\n",
    "dt = 0.1\n",
    "x0 = 100\n",
    "np.random.seed(1)\n",
    "\n",
    "sigma = np.arange(0.8, 2, 0.2)\n",
    "\n",
    "x = np.exp(\n",
    "    (mu - sigma ** 2 / 2) * dt\n",
    "    + sigma * np.random.normal(0, np.sqrt(dt), size=(len(sigma), n)).T\n",
    ")\n",
    "x = np.vstack([np.ones(len(sigma)), x])\n",
    "x = x0 * x.cumprod(axis=0)\n",
    "\n",
    "plt.plot(x)\n",
    "plt.legend(np.round(sigma, 2))\n",
    "plt.xlabel(\"$t$\")\n",
    "plt.ylabel(\"$x$\")\n",
    "plt.title(\n",
    "    \"Realizations of Geometric Brownian Motion with different variances\\n $\\mu=1$\"\n",
    ")\n",
    "plt.show()"
   ]
  },
  {
   "cell_type": "code",
   "execution_count": null,
   "metadata": {},
   "outputs": [],
   "source": []
  }
 ],
 "metadata": {
  "kernelspec": {
   "display_name": "Python 3",
   "language": "python",
   "name": "python3"
  },
  "language_info": {
   "codemirror_mode": {
    "name": "ipython",
    "version": 3
   },
   "file_extension": ".py",
   "mimetype": "text/x-python",
   "name": "python",
   "nbconvert_exporter": "python",
   "pygments_lexer": "ipython3",
   "version": "3.7.3"
  }
 },
 "nbformat": 4,
 "nbformat_minor": 2
}
