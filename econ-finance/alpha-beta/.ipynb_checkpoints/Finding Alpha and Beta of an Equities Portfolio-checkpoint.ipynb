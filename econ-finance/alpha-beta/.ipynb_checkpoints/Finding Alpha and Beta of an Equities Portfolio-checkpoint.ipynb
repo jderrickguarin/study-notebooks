{
 "cells": [
  {
   "cell_type": "markdown",
   "metadata": {},
   "source": [
    "# Finding Alpha and Beta of Stock Prices\n",
    "In this notebook, we learn how to compute for the alpha and beta of PSE listed stocks relative to the PSEi.\n",
    "\n",
    "### What are alpha and beta?\n",
    "In finance and investment, alpha $\\alpha$ and beta $\\beta$ are indicators used to analyze and, to an extent, predict returns. Specifically, alpha is the measure of the performance of a stock against an index benchmark at a specific point in time. Beta is the measure of the volatility of the stock relative to an index benchmark.\n",
    "\n",
    "https://www.codingfinance.com/post/2018-04-25-portfolio-beta-py/\n",
    "https://financetrain.com/calculating-beta-using-market-model-regression-slope/\n",
    "https://www.youtube.com/watch?v=S078TSGr5JY&feature=emb_logo\n",
    "\n",
    "### Calculating alpha and beta\n",
    "Both alpha and beta indicators can be used for a specific stock or an entire portfolio of stocks. ADD MORE HERE\n",
    "\n",
    "$\\beta = (X^TX)^{-1}\\,X^Ty$"
   ]
  },
  {
   "cell_type": "code",
   "execution_count": 1,
   "metadata": {},
   "outputs": [],
   "source": [
    "import pandas as pd\n",
    "import numpy as np\n",
    "import matplotlib.pyplot as plt\n",
    "from scipy import stats\n",
    "import seaborn as sns\n",
    "import stock_data_reader as sdr\n",
    "\n",
    "style.use('dark_background')\n",
    "\n",
    "# Initializing importannt variables\n",
    "start = dt.datetime(2018, 4, 15)\n",
    "end = dt.datetime.now()\n",
    "ticker = 'JFC'\n",
    "\n",
    "s_prices = sdr.generate_df(ticker, start, end, dateObject = True)\n",
    "\n",
    "s_prices = s_prices['amount']\n",
    "s_returns = prices.pct_change()[1:]\n",
    "\n",
    "# i_prices = sdr.generate_df() # update stock_data_reader so it gets psei index data"
   ]
  },
  {
   "cell_type": "markdown",
   "metadata": {},
   "source": [
    "**Note**: `stock_data_reader` is a custom script to retrieve historical prices of PSE listed stocks. More [here](www.github.com/jderrickguarin/psei_historical_data)"
   ]
  },
  {
   "cell_type": "code",
   "execution_count": null,
   "metadata": {},
   "outputs": [],
   "source": []
  }
 ],
 "metadata": {
  "kernelspec": {
   "display_name": "Python 3",
   "language": "python",
   "name": "python3"
  },
  "language_info": {
   "codemirror_mode": {
    "name": "ipython",
    "version": 3
   },
   "file_extension": ".py",
   "mimetype": "text/x-python",
   "name": "python",
   "nbconvert_exporter": "python",
   "pygments_lexer": "ipython3",
   "version": "3.7.3"
  }
 },
 "nbformat": 4,
 "nbformat_minor": 2
}
